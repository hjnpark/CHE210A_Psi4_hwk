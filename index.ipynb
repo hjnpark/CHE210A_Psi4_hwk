{
 "cells": [
  {
   "cell_type": "markdown",
   "id": "5b4503ee-766e-4b83-83c1-32092a479161",
   "metadata": {},
   "source": [
    "# CHE 210A Problem Set 4, Psi4 Questions\n",
    "\n",
    "* [Problem 1: Singlepoint energy calculation and analyzing Psi4 output files](./Problem1.ipynb)\n",
    "* [Problem 2: Plotting potential curves](./Problem2.ipynb)\n",
    "* [Problem 3: Calculating vibrational frequencies](./Problem3.ipynb)"
   ]
  }
 ],
 "metadata": {
  "kernelspec": {
   "display_name": "Python 3 (ipykernel)",
   "language": "python",
   "name": "python3"
  },
  "language_info": {
   "codemirror_mode": {
    "name": "ipython",
    "version": 3
   },
   "file_extension": ".py",
   "mimetype": "text/x-python",
   "name": "python",
   "nbconvert_exporter": "python",
   "pygments_lexer": "ipython3",
   "version": "3.9.16"
  }
 },
 "nbformat": 4,
 "nbformat_minor": 5
}
