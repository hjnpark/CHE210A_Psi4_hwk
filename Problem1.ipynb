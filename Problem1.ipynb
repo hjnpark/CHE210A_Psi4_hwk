{
 "cells": [
  {
   "cell_type": "code",
   "execution_count": null,
   "id": "bb259308-a992-4670-bbd1-e501ad88789d",
   "metadata": {},
   "outputs": [],
   "source": [
    "import psi4\n",
    "import fortecubeview as vis"
   ]
  },
  {
   "cell_type": "markdown",
   "id": "ac4ce8b0-f18c-4d99-b509-4059ce95433d",
   "metadata": {},
   "source": [
    "# Problem 1: Singlepoint energy calculation and analying Psi4 output files.\n",
    "<span style=\"color:red\">WARNING: Any modifications you make here will not be saved! Make sure you download what you need before closing the tab. </span>\n",
    "\n",
    "Gaussian basis sets are collections of basis functions that are linear combinations of primitive gaussians. Gaussian based basis sets are widely used as gaussian integrals are easy to carry.\n",
    "\n",
    "<p style=\"text-align: center;\">$\\psi_i = \\sum_j c_{ij} \\varphi_j $</p> \n",
    "\n",
    "Here, $\\psi_i$ represents molecular orbital and it is formed by a linear combination of atomic orbitals ($\\varphi_j$) with their coefficients ($c_{ij}$). The $\\varphi_j$ is a pritimitive gaussian function. \\\n",
    "There are many basis sets available in Psi4 ([manual](https://psicode.org/psi4manual/master/basissets.html#sec-basisbuiltin)). Among them we will use correlation-consistent basis sets here.\n",
    "\n",
    "Running the code below will generate three output files. The Self-Consistent Field (SCF) mothod optimizes $c_{ij}$ until convergence critera are met."
   ]
  },
  {
   "cell_type": "code",
   "execution_count": null,
   "id": "109f9648-fdab-42b6-a7c6-a9375ffd5de5",
   "metadata": {
    "tags": []
   },
   "outputs": [],
   "source": [
    " HF = \"\"\"\n",
    "    0 1\n",
    "    H 0.0 0.0 0.0\n",
    "    F 0.0 0.0 1.73\n",
    "    unit bohr\n",
    "\"\"\"\n",
    "\n",
    "M = psi4.geometry(HF)\n",
    "\n",
    "basis_list = ['cc-pvdz', 'cc-pvtz', 'cc-pvqz']\n",
    "\n",
    "for basis in basis_list:\n",
    "    psi4.core.set_output_file('SP_%s.out' %basis)\n",
    "    psi4.set_options({'basis': basis,\n",
    "                      'reference': 'rhf'})\n",
    "    Energy= psi4.energy('scf', molecule = M)\n",
    "    print(\"Energy from basis set %s is %f Hartree\" %(basis, Energy))"
   ]
  },
  {
   "cell_type": "markdown",
   "id": "5fa2ddff-7ade-43ee-b086-e41b6e623065",
   "metadata": {},
   "source": [
    "### Problem 1-1: Open the output files and find the number of basis functions for each basis sets. Is there a correlation between the number of basis functions and final SCF energies? What is the trend?"
   ]
  },
  {
   "cell_type": "markdown",
   "id": "40851da1-324e-4766-8495-122893b09be7",
   "metadata": {},
   "source": [
    "### Problem 1-2: `aug-cc-pvQZ` basis set has an extra diffuse function added to `cc-pvQZ`. Run the code below and make a table of the five occupied orbital energies from `aug-cc-pvQZ` and `cc-pvDZ`. Do you see any significant differences? What is the maximum energy difference and from which molecular orbital?"
   ]
  },
  {
   "cell_type": "code",
   "execution_count": null,
   "id": "c2d870e8-c35b-4f52-8fdf-50551823fc2f",
   "metadata": {
    "tags": []
   },
   "outputs": [],
   "source": [
    "psi4.core.set_output_file('SP_aug-cc_pvqz.out')\n",
    "psi4.set_options({'basis': 'aug-cc-pvQZ'})\n",
    "psi4.energy('scf', molecule=M)"
   ]
  },
  {
   "cell_type": "markdown",
   "id": "cb748f75-7092-4dfa-a3b4-85ca748887eb",
   "metadata": {},
   "source": [
    "### Problem 1-3: Visualize those five molecular orbitals. Submit screenshots of the 3-A1 orbital ($\\sigma$ bonding orbital) and Highest Occupied Molecular Orbital (HOMO, $\\pi$ bonding orbital)."
   ]
  }
 ],
 "metadata": {
  "kernelspec": {
   "display_name": "Python 3 (ipykernel)",
   "language": "python",
   "name": "python3"
  },
  "language_info": {
   "codemirror_mode": {
    "name": "ipython",
    "version": 3
   },
   "file_extension": ".py",
   "mimetype": "text/x-python",
   "name": "python",
   "nbconvert_exporter": "python",
   "pygments_lexer": "ipython3",
   "version": "3.9.16"
  }
 },
 "nbformat": 4,
 "nbformat_minor": 5
}
