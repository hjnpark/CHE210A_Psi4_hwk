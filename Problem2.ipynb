{
 "cells": [
  {
   "cell_type": "code",
   "execution_count": null,
   "id": "c110f67c-bb8b-44df-a570-9972f45b74b5",
   "metadata": {
    "tags": []
   },
   "outputs": [],
   "source": [
    "import psi4\n",
    "import re as re\n",
    "import matplotlib.pyplot as plt"
   ]
  },
  {
   "cell_type": "markdown",
   "id": "9a05abd2-0a73-460b-9913-6a8d552eaa54",
   "metadata": {
    "tags": []
   },
   "source": [
    "# Problem 2: Plotting potential curves\n",
    "<span style=\"color:red\">WARNING: Any modifications you make here will not be saved! Make sure you download what you need before closing the tab. </span>\n",
    "\n",
    "### Problem 2-1: Genereate potential curves using the three basis sets from Problem1. Create a plot with the three potential curves together. What is the trend? Submit the plot with your answer."
   ]
  },
  {
   "cell_type": "code",
   "execution_count": null,
   "id": "412a4af1-66b9-4032-8b5f-f6c4e0c217bf",
   "metadata": {},
   "outputs": [],
   "source": [
    "HF = \"\"\"\n",
    "    0 1\n",
    "    H 0.0 0.0 0.0\n",
    "    F 0.0 0.0 R\n",
    "    units bohr\n",
    "\"\"\"\n",
    "\n",
    "basis = 'cc-pvdz'\n",
    "psi4.core.set_output_file(\"PES.out\")\n",
    "psi4.set_options({\"basis\": basis,\n",
    "                \"reference\": \"rhf\"})\n",
    "\n",
    "N = 51\n",
    "R_min = 1.0\n",
    "R_max = 6.0\n",
    "dr = (R_max - R_min)/N\n",
    "\n",
    "Rs = []\n",
    "Es = []\n",
    "\n",
    "for i in range(N):\n",
    "    dis = R_min + i*dr\n",
    "    HF_new = re.sub(\"R\", str(dis), HF)\n",
    "    Energy = psi4.energy('scf', molecule = psi4.geometry(HF_new))\n",
    "    Rs.append(dis)\n",
    "    Es.append(Energy)\n",
    "    \n",
    "fig, ax = plt.subplots()\n",
    "ax.plot(Rs, Es)\n",
    "ax.set_title('Potential curve of HF')\n",
    "ax.set(xlabel = 'Distance (Bohr)', ylabel = 'Energy (Hartree)')\n",
    "fig.savefig('plot.png')\n",
    "plt.show()"
   ]
  }
 ],
 "metadata": {
  "kernelspec": {
   "display_name": "Python 3 (ipykernel)",
   "language": "python",
   "name": "python3"
  },
  "language_info": {
   "codemirror_mode": {
    "name": "ipython",
    "version": 3
   },
   "file_extension": ".py",
   "mimetype": "text/x-python",
   "name": "python",
   "nbconvert_exporter": "python",
   "pygments_lexer": "ipython3",
   "version": "3.9.16"
  }
 },
 "nbformat": 4,
 "nbformat_minor": 5
}
