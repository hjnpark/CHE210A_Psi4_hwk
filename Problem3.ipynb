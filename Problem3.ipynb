{
 "cells": [
  {
   "cell_type": "code",
   "execution_count": null,
   "id": "ef40cc7a-be6b-49f4-a396-6465c497e250",
   "metadata": {
    "tags": []
   },
   "outputs": [],
   "source": [
    "import psi4\n",
    "import fortecubeview as vis\n",
    "import numpy as np"
   ]
  },
  {
   "cell_type": "markdown",
   "id": "eb1c31b1-0439-4e63-9e58-834dbd6d3451",
   "metadata": {
    "tags": []
   },
   "source": [
    "# Problem 3: Calculating vibrational frequencies\n",
    "<span style=\"color:red\">WARNING: Any modifications you make here will not be saved! Make sure you download what you need before closing the tab. </span>\n",
    "\n",
    "The code below is from the Psi4 demo. We are going to calculate the vibrational frequencies of a benzene molecule starting from Cartesian force constant maxtrix (Hessian)."
   ]
  },
  {
   "cell_type": "code",
   "execution_count": null,
   "id": "a0d795dd-cdd8-4fd3-840d-66d1a9517db4",
   "metadata": {
    "tags": []
   },
   "outputs": [],
   "source": [
    "Benzene = psi4.geometry(\"\"\"pubchem:Benzene\"\"\")\n",
    "\n",
    "psi4.set_options({'basis': '6-31g',\n",
    "                  'reference': 'rhf'})\n",
    "psi4.core.set_output_file('vib.out')\n",
    "#psi4.optimize('scf', molecule = Benzene)\n",
    "\n",
    "psi4.set_options({\"normal_modes_write \":True,\n",
    "                  \"writer_file_label\":\"C6H6\"})\n",
    "\n",
    "#E, wfn = psi4.frequency('scf', molecule=Benzene, return_wfn=True)\n",
    "\n",
    "# I commented out the psi4.optimize() and psi4.frequency() and provided its normal mode vibrational frequencies.\n",
    "# This is because the Binder server won't let us run anything too expensive, such as calculating Hessian of a benzene molecule.\n",
    "# If you want to calculate the frequencies by yourself, download this script and run it with your own computer. \n",
    "\n",
    "\n",
    "freqs = np.loadtxt(\"Benzene_freqs.txt\", dtype=float)\n",
    "print(\"\\nWe want to get these numbers from Cartesian coordinate based Hessian \\n\", freqs)"
   ]
  },
  {
   "cell_type": "markdown",
   "id": "4a4578a1-2e05-4301-9499-7333db6f6872",
   "metadata": {},
   "source": [
    "### Problem 3-1: Do you see the two lowest vibrational frequencies are very close to each other? Visualize them and explain why they are so close to each other."
   ]
  },
  {
   "cell_type": "code",
   "execution_count": null,
   "id": "02169213-4fac-4a89-b3bc-6e63cc4d1273",
   "metadata": {
    "tags": []
   },
   "outputs": [],
   "source": [
    "vis.vib(\"C6H6.molden_normal_modes\")"
   ]
  },
  {
   "cell_type": "markdown",
   "id": "816a01dc-df5b-454b-94e1-37236f6aa9fb",
   "metadata": {},
   "source": [
    "### Problem 3-2: Hessians can be obtained by using `psi4.hessian()`. Follow the comments to calculate vibrational frequencies from the Hessian. Submit your code inside of the 'Your code goes here' block (screenshot works) and the printed result.\n",
    "Let's discuss units before we start coding. The unit of an Hessian element is $E_h/Bohr^2$ where $E_h$ is the Hartree energy. First, we need to get the mass-weighed Hessian matrix.\n",
    "<p style=\"text-align: center;\">$H'_{j,k} = \\dfrac{H_{j,k}}{ \\sqrt{m_jm_k} }$</p> \n",
    "\n",
    "The `mass_array` we get from `M.to_dict()['mass']` below has the unit of atomic mass. Since one of the Hartree atomic units is $m_e$ (mass of electron), we need to convert the atomic mass to the mass of electron ($m_p/m_e$ = 1836.153). \\\n",
    "The length of `mass_array` is same as the total number of atoms (N). However, the Hessian has a length of 3N (x, y, and z for each atom). We can use `np.repeat()` to fix that and diagonalize the mass matrix. \\\n",
    "Once we have the diagonalized mass matrix `M`, we can get the mass-weighted Hessian by:\n",
    "\n",
    "<p style=\"text-align: center;\">$ H' = H_{mw} =  M^{-1/2}  H  M^{-1/2}$</p> \n",
    "\n",
    "Note that you won't be able to inverse `M` matrix because you have zero off-diagonal elements. You need to inverse the mass values before diagonalize it. \\\n",
    "Once we have the `H_mw`, we can calculate it's eigenvalues using `lambdas, vectors = np.linalg.eig(H_mw)`. Each eigenvalue in the `lambdas` represents force constant ($k'$) of a normal vibraional mode. \n",
    "\n",
    "<p style=\"text-align: center;\">$ \\nu * 2\\pi = \\omega = \\sqrt{k'}$</p>\n",
    "<p style=\"text-align: center;\">$ \\nu = \\omega/2\\pi$</p>\n",
    "\n",
    "The $k'$ has a unit of $\\dfrac{E_h}{Bohr^2 m_e}$. We can convert the mass to energy by using $E_h = m_ec^2$, then the unit becomes $\\dfrac{c^2}{Bohr^2}$. \\\n",
    "Now the $\\omega = \\sqrt{k'}$ has a unit of $\\dfrac{c}{Bohr}$ and we can remove the speed of light by using its value in atomic units. The value is inverse of the fine-structure constant ($\\alpha = {e^2}/{(4\\pi\\epsilon_0)\\hbar c} \\approx 1/137$) which is $c \\approx 137$. \\\n",
    "Finally, we can convert the $Bohr$ to $cm^{-1}$ ($1 Bohr = 5.2918 * 10^{-9} cm$). "
   ]
  },
  {
   "cell_type": "code",
   "execution_count": null,
   "id": "34b650c6-3506-443d-be36-daf8faef6fab",
   "metadata": {},
   "outputs": [],
   "source": [
    "na = len(Benzene.geometry().np[:]) # Total number of atoms\n",
    "\n",
    "#H, wfn = psi4.hessian('scf', molecule = Benzene,return_wfn = True)\n",
    "\n",
    "H = np.loadtxt(\"Benzene_Hessian.txt\", dtype=float)\n",
    "\n",
    "###Your code goes here\n",
    "mass_array = Benzene.to_dict()['mass'] # A mass array with a length of N of all atoms.\n",
    "mass_array = # Here you want to convert the atomic mass unit to electronic mass. Don't forget to inverse them.  \n",
    "m = np.repeat() # Here you want to repeat the mass_array it 3 times, so the new array covers all coordinates.\n",
    "M = np.diag(m) \n",
    "print(M) # Make sure this matrix makes sense to you\n",
    "\n",
    "H_mw = np.dot(np.dot(M,H),M) # Getting the mass-weighted Hessian\n",
    "lambdas, vectors = np.linalg.eig(H_mw) # np.linalg.eig() is a convenient function that can calculate eigenvalues and their vectors.\n",
    "f_const = lambdas[:na*3-6] # We are picking eigenvalues that are not close to 0 (3N-6 of them since Benzene is not a linear molecule)\n",
    "\n",
    "freq = np.sqrt(f_const)/(2*np.pi) # You need to convert Bohr to cm-1 and use the speed of light in atomic units here.\n",
    "\n",
    "print(np.sort(freq)) # Sorted to match the order above.\n",
    "###\n"
   ]
  }
 ],
 "metadata": {
  "kernelspec": {
   "display_name": "Python 3 (ipykernel)",
   "language": "python",
   "name": "python3"
  },
  "language_info": {
   "codemirror_mode": {
    "name": "ipython",
    "version": 3
   },
   "file_extension": ".py",
   "mimetype": "text/x-python",
   "name": "python",
   "nbconvert_exporter": "python",
   "pygments_lexer": "ipython3",
   "version": "3.9.16"
  }
 },
 "nbformat": 4,
 "nbformat_minor": 5
}
